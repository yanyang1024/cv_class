{
 "cells": [
  {
   "cell_type": "markdown",
   "metadata": {},
   "source": [
    "# First Python Code"
   ]
  },
  {
   "cell_type": "code",
   "execution_count": 1,
   "metadata": {},
   "outputs": [
    {
     "name": "stdout",
     "output_type": "stream",
     "text": [
      "Hello World\n"
     ]
    }
   ],
   "source": [
    "print('Hello World')"
   ]
  },
  {
   "cell_type": "code",
   "execution_count": null,
   "metadata": {},
   "outputs": [],
   "source": [
    "students_count = 1000\n",
    "print(students_count)\n",
    "print(id(students_count))\n"
   ]
  },
  {
   "cell_type": "code",
   "execution_count": null,
   "metadata": {},
   "outputs": [],
   "source": [
    "students_count = students_count + 4\n",
    "print(students_count)"
   ]
  },
  {
   "cell_type": "code",
   "execution_count": null,
   "metadata": {},
   "outputs": [],
   "source": [
    "students_count = \"Python Programming\"\n",
    "print(students_count)\n",
    "print(id(students_count))"
   ]
  },
  {
   "cell_type": "code",
   "execution_count": null,
   "metadata": {},
   "outputs": [],
   "source": []
  },
  {
   "cell_type": "code",
   "execution_count": null,
   "metadata": {},
   "outputs": [],
   "source": [
    "print('I'm Jian Zhang')"
   ]
  },
  {
   "cell_type": "code",
   "execution_count": null,
   "metadata": {},
   "outputs": [],
   "source": [
    "print(\"I'm Jian Zhang\")"
   ]
  },
  {
   "cell_type": "code",
   "execution_count": null,
   "metadata": {},
   "outputs": [],
   "source": [
    "print('''I'm \n",
    "Jian Zhang\n",
    "'''\n",
    ")"
   ]
  },
  {
   "cell_type": "markdown",
   "metadata": {},
   "source": [
    "# Line by line"
   ]
  },
  {
   "cell_type": "code",
   "execution_count": null,
   "metadata": {},
   "outputs": [],
   "source": [
    "print('o----')\n",
    "print(' ||||')\n",
    "print(5 * 10)\n",
    "print('*' * 10)"
   ]
  },
  {
   "cell_type": "markdown",
   "metadata": {},
   "source": [
    "# Variable "
   ]
  },
  {
   "cell_type": "code",
   "execution_count": null,
   "metadata": {},
   "outputs": [],
   "source": [
    "price = 10"
   ]
  },
  {
   "cell_type": "code",
   "execution_count": null,
   "metadata": {},
   "outputs": [],
   "source": [
    "print(price)\n",
    "\n",
    "price = 20\n",
    "\n",
    "print(id(price))\n",
    "\n",
    "price = price + 2\n",
    "\n",
    "print(id(price))"
   ]
  },
  {
   "cell_type": "code",
   "execution_count": null,
   "metadata": {},
   "outputs": [],
   "source": [
    "rating = 4.9"
   ]
  },
  {
   "cell_type": "code",
   "execution_count": null,
   "metadata": {},
   "outputs": [],
   "source": [
    "name = 'Jack'"
   ]
  },
  {
   "cell_type": "code",
   "execution_count": null,
   "metadata": {},
   "outputs": [],
   "source": [
    "is_true = True"
   ]
  },
  {
   "cell_type": "code",
   "execution_count": null,
   "metadata": {},
   "outputs": [],
   "source": [
    "print(type(rating))\n",
    "\n",
    "print(type(is_true))\n",
    "\n",
    "print(type(name))"
   ]
  },
  {
   "cell_type": "code",
   "execution_count": null,
   "metadata": {},
   "outputs": [],
   "source": [
    "students_count = 1000\n",
    "rating = 4.99\n",
    "is_published = False\n",
    "course_name = \"Python Programming\"\n",
    "print(type(students_count))\n",
    "print(type(rating))\n",
    "print(type(is_published))\n",
    "print(type(course_name))\n",
    "print(id(rating))\n",
    "print(id(students_count ))\n"
   ]
  },
  {
   "cell_type": "markdown",
   "metadata": {},
   "source": [
    "# Patient Example: Name, age"
   ]
  },
  {
   "cell_type": "code",
   "execution_count": null,
   "metadata": {},
   "outputs": [],
   "source": [
    "name = input('What is your name? ')\n",
    "print('Hi ' + name)"
   ]
  },
  {
   "cell_type": "code",
   "execution_count": null,
   "metadata": {},
   "outputs": [],
   "source": [
    "name = input('What is your name? ')\n",
    "age = input('What is your age? ')\n",
    "print(name + ' is ' + age + ' years old.')"
   ]
  },
  {
   "cell_type": "code",
   "execution_count": null,
   "metadata": {},
   "outputs": [],
   "source": [
    "price = 1_000_000"
   ]
  },
  {
   "cell_type": "code",
   "execution_count": null,
   "metadata": {},
   "outputs": [],
   "source": [
    "print(price)"
   ]
  },
  {
   "cell_type": "code",
   "execution_count": null,
   "metadata": {},
   "outputs": [],
   "source": [
    "print(type(price))"
   ]
  },
  {
   "cell_type": "markdown",
   "metadata": {},
   "source": [
    "# Formatted String"
   ]
  },
  {
   "cell_type": "code",
   "execution_count": null,
   "metadata": {},
   "outputs": [],
   "source": [
    "first_name = \"Jian\"\n",
    "last_name = \"Zhang\"\n",
    "full_name = first_name + \" \" + last_name\n",
    "print(full_name)\n",
    "full_name_formated = f\"{first_name} {last_name}\"\n",
    "print(full_name_formated)"
   ]
  },
  {
   "cell_type": "markdown",
   "metadata": {},
   "source": [
    "# Escape Character"
   ]
  },
  {
   "cell_type": "code",
   "execution_count": null,
   "metadata": {},
   "outputs": [],
   "source": [
    "course_full_name = \"Python Programing with \\\"Mosh\\\"\"\n",
    "print(course_full_name)\n",
    "course_full_name = \"Python Programing with \\'Mosh\\'\"\n",
    "print(course_full_name)\n",
    "course_full_name = \"Python Programing with \\\\Mosh\\\\\"\n",
    "print(course_full_name)\n",
    "course_full_name = \"Python Programing with \\nMosh\"\n",
    "print(course_full_name)"
   ]
  },
  {
   "cell_type": "markdown",
   "metadata": {},
   "source": [
    "# String Methods"
   ]
  },
  {
   "cell_type": "code",
   "execution_count": null,
   "metadata": {},
   "outputs": [],
   "source": [
    "course_name_python = \"  python programming for beginners    \"\n",
    "print(course_name_python.upper())\n",
    "print(course_name_python.lower())\n",
    "print(course_name_python.title())\n",
    "print(course_name_python.find(\"gram\"))\n",
    "print(course_name_python.replace(\"p\", \"P\"))\n",
    "print(\"pro\" in course_name_python)\n",
    "print(\"abc\" in course_name_python)"
   ]
  },
  {
   "cell_type": "markdown",
   "metadata": {},
   "source": [
    "# Numbers"
   ]
  },
  {
   "cell_type": "code",
   "execution_count": null,
   "metadata": {},
   "outputs": [],
   "source": [
    "x = 3\n",
    "y = 3.1\n",
    "z = 3 + 2j  \n",
    "print(10 + 3)\n",
    "print(10 - 3)\n",
    "print(10 * 3)\n",
    "print(10 / 3)\n",
    "print(10 // 3)\n",
    "print(10 % 3)\n",
    "print(10 ** 3)\n",
    "x = x + 3\n",
    "print(x)\n",
    "y += 3\n",
    "print(y)\n",
    "print(z)\n"
   ]
  },
  {
   "cell_type": "code",
   "execution_count": null,
   "metadata": {},
   "outputs": [],
   "source": [
    "print(type(z))"
   ]
  },
  {
   "cell_type": "code",
   "execution_count": null,
   "metadata": {},
   "outputs": [],
   "source": [
    "# Working with Numbers"
   ]
  },
  {
   "cell_type": "code",
   "execution_count": null,
   "metadata": {},
   "outputs": [],
   "source": [
    "\n",
    "import math\n",
    "print(round(2.9595, 2))  # Function to round numbers\n",
    "print(abs(-5.4))  # Converts a number to absolute\n",
    "print(math.ceil(8.2))  # Math function to retunr the ceil of a float number\n",
    "print(math.floor(4.9))\n",
    "\n",
    "average = 2.9\n",
    "print(f\"{average:.2f}\")"
   ]
  },
  {
   "cell_type": "markdown",
   "metadata": {},
   "source": [
    "# Type Conversion"
   ]
  },
  {
   "cell_type": "code",
   "execution_count": null,
   "metadata": {},
   "outputs": [],
   "source": [
    "# 09 Type Conversion\n",
    "x = input(\"x: \")  # Even if the input is a number it will be read as a string\n",
    "print(type(x))\n",
    "\n",
    "y = int(x) + 5\n",
    "print(f\"x: {x} ; y: {y}\")\n",
    "\n",
    "# type converters\n",
    "# int() converts to an interger\n",
    "\n",
    "# float() converts to float\n",
    "\n",
    "# bool() converts to boolean\n",
    "# Falsy values - values that retunr False\n",
    "print(bool(\"\"))  # Double quotations returns False\n",
    "print(bool(0))  # 0 returns False\n",
    "print(bool(None))\n",
    "# Other values return True\n",
    "print(bool(2))\n",
    "# str() converts to string"
   ]
  },
  {
   "cell_type": "markdown",
   "metadata": {},
   "source": [
    "# Quiz"
   ]
  },
  {
   "cell_type": "code",
   "execution_count": null,
   "metadata": {},
   "outputs": [],
   "source": [
    "# 10 Quiz\n",
    "\n",
    "# What are the primitive type in python?\n",
    "# Strings\n",
    "# Interger number\n",
    "# Float numbers\n",
    "# Booleans - True and False\n",
    "\n",
    "# What will we see in the terminal\n",
    "fruit = \"Apple\"\n",
    "print(fruit[1])\n",
    "# p\n",
    "\n",
    "# What will we see in the terminal?\n",
    "fruit = \"Apple\"\n",
    "# when slicing a string the last caracter called is not inclued\n",
    "print(fruit[1:-1])\n",
    "# ppl\n",
    "\n",
    "# Waht is the result?\n",
    "print(10 % 3)\n",
    "# 1\n",
    "\n",
    "# Whats the result?\n",
    "print(bool(\"False\"))\n",
    "# True"
   ]
  },
  {
   "cell_type": "markdown",
   "metadata": {},
   "source": [
    "# Comparison operators"
   ]
  },
  {
   "cell_type": "code",
   "execution_count": null,
   "metadata": {},
   "outputs": [],
   "source": [
    "# 01 Comparison operators\n",
    "\n",
    "# Use comparison operator to compare values\n",
    "# < strictly less than\n",
    "# <= less than or equal\n",
    "# > strictly greater than\n",
    "# >= greater than or equal\n",
    "# == equal\n",
    "# != not equal\n",
    "# is object identity\n",
    "# is not negated object identity"
   ]
  },
  {
   "cell_type": "code",
   "execution_count": null,
   "metadata": {},
   "outputs": [],
   "source": [
    "print(3>2)"
   ]
  },
  {
   "cell_type": "code",
   "execution_count": null,
   "metadata": {},
   "outputs": [],
   "source": [
    "print(3<2)"
   ]
  },
  {
   "cell_type": "markdown",
   "metadata": {},
   "source": [
    "# Conditional Statements"
   ]
  },
  {
   "cell_type": "code",
   "execution_count": null,
   "metadata": {},
   "outputs": [],
   "source": [
    "# 02 Conditional Statements\n",
    "\n",
    "temperature = 25\n",
    "if temperature > 30:\n",
    "    print(\"It's warm\")\n",
    "    print(\"Drink water\")\n",
    "elif temperature > 20:\n",
    "    print(\"It's nice\")\n",
    "else:\n",
    "    print(\"It's cold\")\n",
    "print(\"Done\")"
   ]
  },
  {
   "cell_type": "markdown",
   "metadata": {},
   "source": [
    "# Ternary Operator"
   ]
  },
  {
   "cell_type": "code",
   "execution_count": null,
   "metadata": {},
   "outputs": [],
   "source": [
    "age1 = 17\n",
    "if age1 >= 18:\n",
    "    print(\"Eligible\")\n",
    "else:\n",
    "    print(\"Not eligible\")\n",
    "\n",
    "# Theres is a different cleaner way to write the same code, and achive the same result.\n",
    "age2 = 20\n",
    "message = \"Eligible\" if age2 >= 18 else \"Not eligible\"\n",
    "print(message)"
   ]
  },
  {
   "cell_type": "markdown",
   "metadata": {},
   "source": [
    "# Logical Operators"
   ]
  },
  {
   "cell_type": "code",
   "execution_count": null,
   "metadata": {},
   "outputs": [],
   "source": [
    "# 04 Logical Operators\n",
    "# and\n",
    "# or\n",
    "# not\n",
    "\n",
    "income = 2000\n",
    "good_credit = True\n",
    "\n",
    "if income > 2500:\n",
    "    high_income = True\n",
    "    print(\"You have a high income!\")\n",
    "else:\n",
    "    high_income = False\n",
    "    print(\"You have a low income\")\n",
    "\n",
    "if high_income and good_credit:\n",
    "    print(\"Eligible for loan\")\n",
    "else:\n",
    "    print(\"Not eligible for loan\")\n",
    "\n",
    "income = 2000\n",
    "good_credit = True\n",
    "\n",
    "if income > 2500:\n",
    "    high_income = True\n",
    "    print(\"You have a high income!\")\n",
    "else:\n",
    "    high_income = False\n",
    "    print(\"You have a low income\")\n",
    "\n",
    "if high_income or good_credit:\n",
    "    print(\"Eligible for loan\")\n",
    "else:\n",
    "    print(\"Not eligible for loan\")\n",
    "\n"
   ]
  },
  {
   "cell_type": "code",
   "execution_count": null,
   "metadata": {},
   "outputs": [],
   "source": [
    "income = 2000\n",
    "good_credit = True\n",
    "student = False\n",
    "\n",
    "if income > 2500:\n",
    "    high_income = True\n",
    "    print(\"You have a high income!\")\n",
    "else:\n",
    "    high_income = False\n",
    "    print(\"You have a low income\")\n",
    "\n",
    "if not student:\n",
    "    print(\"Eligible for loan\")\n",
    "else:\n",
    "    print(\"Not eligible for loan\")\n",
    "\n",
    "\n",
    "income = 5000\n",
    "good_credit = True\n",
    "student = True\n",
    "\n",
    "if income > 2500:\n",
    "    high_income = True\n",
    "    print(\"You have a high income!\")\n",
    "else:\n",
    "    high_income = False\n",
    "    print(\"You have a low income\")\n",
    "\n",
    "if (high_income or good_credit) and not student:\n",
    "    print(\"Eligible for loan\")\n",
    "else:\n",
    "    print(\"Not eligible for loan\")"
   ]
  },
  {
   "cell_type": "markdown",
   "metadata": {},
   "source": [
    "# Chaining Comparison Operators"
   ]
  },
  {
   "cell_type": "code",
   "execution_count": null,
   "metadata": {},
   "outputs": [],
   "source": [
    "# age should be between 18 and 65\n",
    "\n",
    "age = 22\n",
    "\n",
    "if age >= 18 and age < 65:\n",
    "    print(\"Eligible\")\n",
    "\n",
    "if 18 <= age < 65:\n",
    "    print(\"Eligible\")\n",
    "\n",
    "# Line 7 and line 10 are the exact same code"
   ]
  },
  {
   "cell_type": "markdown",
   "metadata": {},
   "source": [
    "# For Loops"
   ]
  },
  {
   "cell_type": "code",
   "execution_count": null,
   "metadata": {},
   "outputs": [],
   "source": [
    "# 08 For Loops\n",
    "\n",
    "# They are used to reapet a task\n",
    "# In this example we are trying to send a message to a use at least 3 time\n",
    "\n",
    "for number in range(3):  # the range goes from 0, 1, 2\n",
    "    print(\"Attempt\", number + 1, (number + 1) * \".\")\n",
    "\n",
    "for number in range(1, 4):  # range goes from 1, 2, 3\n",
    "    print(\"Attempt\", number, number * \".\")\n",
    "\n",
    "for number in range(1, 10, 2):  # range goes from 1, 3, 5, 7, 9\n",
    "    print(\"Attempt\", number, number * \".\")"
   ]
  },
  {
   "cell_type": "markdown",
   "metadata": {},
   "source": [
    "# For..Else"
   ]
  },
  {
   "cell_type": "code",
   "execution_count": null,
   "metadata": {},
   "outputs": [],
   "source": [
    "# Lesson how to break a for loop\n",
    "\n",
    "successful = False\n",
    "for number in range(3):\n",
    "    print(\"Attempt\")\n",
    "    if successful:\n",
    "        print(\"Successful\")\n",
    "        break\n",
    "else:\n",
    "    print(\"Attempted 3 times and failed\")"
   ]
  },
  {
   "cell_type": "markdown",
   "metadata": {},
   "source": [
    "# Iterables"
   ]
  },
  {
   "cell_type": "code",
   "execution_count": null,
   "metadata": {},
   "outputs": [],
   "source": [
    "# 11 Iterables\n",
    "\n",
    "for x in \"Python\":\n",
    "    print(x)\n",
    "\n",
    "for x in [1, 2, 3, 4]:\n",
    "    print(x)"
   ]
  },
  {
   "cell_type": "markdown",
   "metadata": {},
   "source": [
    "# Nested Loops"
   ]
  },
  {
   "cell_type": "code",
   "execution_count": null,
   "metadata": {},
   "outputs": [],
   "source": [
    "# 10 Nested Loops\n",
    "# Loops inside other loops\n",
    "\n",
    "for x in range(2):\n",
    "    for y in range(3):\n",
    "        print(f\"({x},{y})\")"
   ]
  },
  {
   "cell_type": "markdown",
   "metadata": {},
   "source": [
    "# While Loops"
   ]
  },
  {
   "cell_type": "code",
   "execution_count": null,
   "metadata": {},
   "outputs": [],
   "source": [
    "# 12 While Loops\n",
    "\n",
    "number = 100\n",
    "while number > 0:\n",
    "    print(number)\n",
    "    number = number // 2\n",
    "\n",
    "command = \"\"\n",
    "while command.lower() != \"quit\":\n",
    "    command = input(\">\")\n",
    "    print(\"Echo\", command)"
   ]
  },
  {
   "cell_type": "markdown",
   "metadata": {},
   "source": [
    "# Infinite Loops"
   ]
  },
  {
   "cell_type": "code",
   "execution_count": null,
   "metadata": {},
   "outputs": [],
   "source": [
    "# 13 Infinite Loops\n",
    "\n",
    "while True:\n",
    "    command = input(\">\")\n",
    "    print(\"Echo\", command)\n",
    "    if command.lower() == \"quit\":\n",
    "        break"
   ]
  },
  {
   "cell_type": "code",
   "execution_count": null,
   "metadata": {},
   "outputs": [],
   "source": []
  },
  {
   "cell_type": "code",
   "execution_count": null,
   "metadata": {},
   "outputs": [],
   "source": [
    "# 11 Exercise\n",
    "\n",
    "# Display the even number ( 2 4 6 8) followed by this message \"We have 4 even numbers\"\n",
    "# 2\n",
    "# 4\n",
    "# 6\n",
    "# 8\n",
    "# We have 4 even numbers\n",
    "\n",
    "# My anwser\n",
    "for number_even in range(1, 10):\n",
    "    if number_even % 2 == 0:\n",
    "        print(number_even)\n",
    "    elif number_even > 8:\n",
    "        print(\"We have 4 even numbers\")\n",
    "        break\n",
    "\n",
    "# Mosh anwser\n",
    "count = 0\n",
    "for number in range(1, 10):\n",
    "    if number % 2 == 0:\n",
    "        count = count + 1\n",
    "        print(number)\n",
    "print(f\"we have {count} even number\")\n",
    "\n",
    "\n",
    "# In my anwser I did not count the numbers"
   ]
  },
  {
   "cell_type": "code",
   "execution_count": null,
   "metadata": {},
   "outputs": [],
   "source": []
  },
  {
   "cell_type": "code",
   "execution_count": null,
   "metadata": {},
   "outputs": [],
   "source": []
  },
  {
   "cell_type": "code",
   "execution_count": null,
   "metadata": {},
   "outputs": [],
   "source": []
  },
  {
   "cell_type": "code",
   "execution_count": null,
   "metadata": {},
   "outputs": [],
   "source": []
  },
  {
   "cell_type": "code",
   "execution_count": null,
   "metadata": {},
   "outputs": [],
   "source": [
    "for\n",
    "    for "
   ]
  },
  {
   "cell_type": "code",
   "execution_count": null,
   "metadata": {},
   "outputs": [],
   "source": []
  },
  {
   "cell_type": "code",
   "execution_count": null,
   "metadata": {},
   "outputs": [],
   "source": []
  },
  {
   "cell_type": "code",
   "execution_count": null,
   "metadata": {},
   "outputs": [],
   "source": []
  },
  {
   "cell_type": "code",
   "execution_count": null,
   "metadata": {},
   "outputs": [],
   "source": []
  }
 ],
 "metadata": {
  "kernelspec": {
   "display_name": "Python 3",
   "language": "python",
   "name": "python3"
  },
  "language_info": {
   "codemirror_mode": {
    "name": "ipython",
    "version": 3
   },
   "file_extension": ".py",
   "mimetype": "text/x-python",
   "name": "python",
   "nbconvert_exporter": "python",
   "pygments_lexer": "ipython3",
   "version": "3.8.5"
  }
 },
 "nbformat": 4,
 "nbformat_minor": 4
}
