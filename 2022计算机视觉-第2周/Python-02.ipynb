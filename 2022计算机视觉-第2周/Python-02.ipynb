{
 "cells": [
  {
   "cell_type": "code",
   "execution_count": null,
   "metadata": {},
   "outputs": [],
   "source": [
    "import math\n",
    "\n",
    "a = 0.36\n",
    "b = math.sqrt(a)\n",
    "print(b)"
   ]
  },
  {
   "cell_type": "code",
   "execution_count": null,
   "metadata": {},
   "outputs": [],
   "source": [
    "from MyQR import myqr\n",
    "\n",
    "\"\"\"Generate a QR code\"\"\"\n",
    "myqr.run(words='https://villa.jianzhang.tech/',\n",
    "         save_name='001.png',\n",
    "         )\n",
    "\n",
    "\"\"\"Generate a QR code with a background picture\"\"\"\n",
    "myqr.run(words='https://villa.jianzhang.tech/',\n",
    "         picture=r'duola.jpg',\n",
    "         colorized=True,  # True：Color，False：Gray\n",
    "         save_name='002.png')"
   ]
  },
  {
   "cell_type": "code",
   "execution_count": null,
   "metadata": {},
   "outputs": [],
   "source": [
    "# Functions"
   ]
  },
  {
   "cell_type": "code",
   "execution_count": null,
   "metadata": {},
   "outputs": [],
   "source": [
    "def my_function():\n",
    "    print(\"Hello from a function\")"
   ]
  },
  {
   "cell_type": "code",
   "execution_count": null,
   "metadata": {},
   "outputs": [],
   "source": [
    "my_function()"
   ]
  },
  {
   "cell_type": "code",
   "execution_count": null,
   "metadata": {},
   "outputs": [],
   "source": [
    "def my_function(fname):\n",
    "    print(fname + \" Refsnes\")\n",
    "\n",
    "my_function(\"Emil\")\n",
    "my_function(\"Tobias\")\n",
    "my_function(\"Linus\")"
   ]
  },
  {
   "cell_type": "code",
   "execution_count": null,
   "metadata": {},
   "outputs": [],
   "source": [
    "def add(a,b):\n",
    "    return a+b"
   ]
  },
  {
   "cell_type": "code",
   "execution_count": null,
   "metadata": {},
   "outputs": [],
   "source": [
    "def lessthan(a,b):\n",
    "    return a<=b"
   ]
  },
  {
   "cell_type": "code",
   "execution_count": null,
   "metadata": {},
   "outputs": [],
   "source": [
    "print(add(5,4))"
   ]
  },
  {
   "cell_type": "code",
   "execution_count": null,
   "metadata": {},
   "outputs": [],
   "source": [
    "print(lessthan(5,4))"
   ]
  },
  {
   "cell_type": "code",
   "execution_count": null,
   "metadata": {},
   "outputs": [],
   "source": []
  },
  {
   "cell_type": "code",
   "execution_count": null,
   "metadata": {},
   "outputs": [],
   "source": [
    "# 01 Lists\n",
    "\n",
    "# Example of a list with strings\n",
    "letters = [\"a\", \"b\", \"c\"]\n",
    "print(letters)\n",
    "\n",
    "# Exemple of a list with interger\n",
    "numbers = [1, 2, 3, 4]\n",
    "print(numbers)"
   ]
  },
  {
   "cell_type": "code",
   "execution_count": null,
   "metadata": {},
   "outputs": [],
   "source": [
    "# Each item in this list is a list it self.\n",
    "matrix = [[0, 1], [2, 3]]\n",
    "print(matrix)\n",
    "\n",
    "# Example how to create list\n",
    "zeros = [0] * 5\n",
    "print(zeros)"
   ]
  },
  {
   "cell_type": "code",
   "execution_count": null,
   "metadata": {},
   "outputs": [],
   "source": [
    "# Concatenate lists\n",
    "combined = zeros + letters\n",
    "print(combined)\n",
    "\n",
    "# Creat a list of a sequence of numbers, in this example from 5 to 20\n",
    "list_range = list(range(5, 21))\n",
    "print(list_range)"
   ]
  },
  {
   "cell_type": "code",
   "execution_count": null,
   "metadata": {},
   "outputs": [],
   "source": [
    "# Convert a string to a list\n",
    "string_list = list(\"Python\")\n",
    "print(string_list)\n",
    "\n",
    "# Check the number of item in a list\n",
    "item_in_string_list = len(string_list)\n",
    "print(item_in_string_list)"
   ]
  },
  {
   "cell_type": "code",
   "execution_count": null,
   "metadata": {},
   "outputs": [],
   "source": [
    "# 02 Accessing Items\n",
    "\n",
    "#  a   b   c   d - example list\n",
    "#  0   1   2   3 - position of each item in the list\n",
    "# -4  -3  -2  -1 - or position of the item ins reverse\n",
    "letters = [\"a\", \"b\", \"c\", \"d\"]\n",
    "print(letters)\n",
    "\n",
    "first_item = letters[0]  # to access the item number 0 in the list\n",
    "print(first_item)\n",
    "\n",
    "letters[0] = \"A\"  # to change the first item in the list\n",
    "\n",
    "print(letters)\n",
    "\n",
    "numbers = list(range(20))\n",
    "print(numbers)"
   ]
  },
  {
   "cell_type": "code",
   "execution_count": null,
   "metadata": {},
   "outputs": [],
   "source": [
    "# Like string this is to slice a list [first item : last item: step] all arguments are optinal\n",
    "numbers_slice = numbers[2:15:2]\n",
    "print(numbers_slice)\n",
    "\n",
    "# with this we are able to reverse the order of the list\n",
    "numbers_revers = numbers[::-1]\n",
    "print(numbers_revers)"
   ]
  },
  {
   "cell_type": "code",
   "execution_count": null,
   "metadata": {},
   "outputs": [],
   "source": [
    "# 03 List Unpacking\n",
    "\n",
    "numbers = [1, 2, 3]\n",
    "print(numbers)\n",
    "\n",
    "# Assigning an item of a list to a variable\n",
    "# first = numbers[0]\n",
    "# second = numbers[1]\n",
    "# third = numbers[3]"
   ]
  },
  {
   "cell_type": "code",
   "execution_count": null,
   "metadata": {},
   "outputs": [],
   "source": [
    "# The best way to this is by list unpacking\n",
    "first, second, third = numbers\n",
    "print(first)\n",
    "print(second)\n",
    "print(third)"
   ]
  },
  {
   "cell_type": "code",
   "execution_count": null,
   "metadata": {},
   "outputs": [],
   "source": [
    "# If we have alist with a lot of item and we just want to unpack the first two item and pack the rest of item in another list\n",
    "numbers_0_19 = [0, 1, 2, 3, 4, 5, 6, 7, 8, 9,\n",
    "                10, 11, 12, 13, 14, 15, 16, 17, 18, 19]\n",
    "print(numbers_0_19)\n",
    "first, second, *others = numbers_0_19\n",
    "print(first)\n",
    "print(second)\n",
    "print(others)"
   ]
  },
  {
   "cell_type": "code",
   "execution_count": null,
   "metadata": {},
   "outputs": [],
   "source": [
    "# For example if we want the unpack the first and the the last item\n",
    "first, *others, last = numbers_0_19\n",
    "print(first)\n",
    "print(others)\n",
    "print(last)"
   ]
  },
  {
   "cell_type": "code",
   "execution_count": null,
   "metadata": {},
   "outputs": [],
   "source": [
    "# 04 Looping over Lists\n",
    "\n",
    "letters = [\"a\", \"b\", \"c\", \"d\"]\n",
    "\n",
    "for letter in letters:\n",
    "    print(letter)\n"
   ]
  },
  {
   "cell_type": "code",
   "execution_count": null,
   "metadata": {},
   "outputs": [],
   "source": [
    "# to get the index of each item use the built in function enumerate()\n",
    "for letter in enumerate(letters):\n",
    "    print(letter)"
   ]
  },
  {
   "cell_type": "code",
   "execution_count": null,
   "metadata": {},
   "outputs": [],
   "source": [
    "for index, letter in enumerate(letters):\n",
    "    print(index, letter)"
   ]
  },
  {
   "cell_type": "code",
   "execution_count": null,
   "metadata": {},
   "outputs": [],
   "source": [
    "# 05 Adding or Removing Items\n",
    "\n",
    "letters = [\"a\", \"b\", \"c\", \"d\", \"e\", \"f\", \"g\"]\n",
    "print(letters)\n",
    "\n",
    "# Add an item to the end of the list\n",
    "letters.append(\"h\")\n",
    "print(letters)"
   ]
  },
  {
   "cell_type": "code",
   "execution_count": null,
   "metadata": {},
   "outputs": [],
   "source": [
    "letters.insert(2, \"-\")\n",
    "print(letters)"
   ]
  },
  {
   "cell_type": "code",
   "execution_count": null,
   "metadata": {},
   "outputs": [],
   "source": [
    "# Remove an item of a list use the method pop()\n",
    "# with no argument it removes the last item\n",
    "letters.pop()\n",
    "print(letters)"
   ]
  },
  {
   "cell_type": "code",
   "execution_count": null,
   "metadata": {},
   "outputs": [],
   "source": [
    "# with a argument it removes the item with that index\n",
    "letters.pop(2)\n",
    "print(letters)"
   ]
  },
  {
   "cell_type": "code",
   "execution_count": null,
   "metadata": {},
   "outputs": [],
   "source": [
    "# Remove an item for a list using the method remove()\n",
    "# specify the item\n",
    "letters.remove(\"c\")  # this will remove the first \"c\" in the list\n",
    "print(letters)"
   ]
  },
  {
   "cell_type": "code",
   "execution_count": null,
   "metadata": {},
   "outputs": [],
   "source": [
    "letters.append(\"e\")"
   ]
  },
  {
   "cell_type": "code",
   "execution_count": null,
   "metadata": {},
   "outputs": [],
   "source": [
    "print(letters)"
   ]
  },
  {
   "cell_type": "code",
   "execution_count": null,
   "metadata": {},
   "outputs": [],
   "source": [
    "letters.remove(\"e\")  # this will remove the first \"c\" in the list\n",
    "print(letters)"
   ]
  },
  {
   "cell_type": "code",
   "execution_count": null,
   "metadata": {},
   "outputs": [],
   "source": [
    "# Remove item using the del statement\n",
    "# with this statement we can remove one item or a range of items by the index\n",
    "del letters[0:2]\n",
    "print(letters)"
   ]
  },
  {
   "cell_type": "code",
   "execution_count": null,
   "metadata": {},
   "outputs": [],
   "source": [
    "# to clear the list and delete all the items\n",
    "letters.clear()\n",
    "print(letters)"
   ]
  },
  {
   "cell_type": "code",
   "execution_count": null,
   "metadata": {},
   "outputs": [],
   "source": [
    "# 06 Finding Items\n",
    "\n",
    "letters = [\"a\", \"b\", \"c\", \"d\", \"e\", \"f\", \"g\"]\n",
    "\n",
    "print(letters.index(\"d\"))"
   ]
  },
  {
   "cell_type": "code",
   "execution_count": null,
   "metadata": {},
   "outputs": [],
   "source": [
    "print(letters.index(\"h\"))"
   ]
  },
  {
   "cell_type": "code",
   "execution_count": null,
   "metadata": {},
   "outputs": [],
   "source": [
    "# Example 1\n",
    "if \"d\" in letters:\n",
    "    print(letters.index(\"d\"))\n",
    "\n",
    "# Exemple 2\n",
    "print(letters.count(\"m\"))"
   ]
  },
  {
   "cell_type": "code",
   "execution_count": null,
   "metadata": {},
   "outputs": [],
   "source": [
    "# 07 Sorting Lists\n",
    "\n",
    "numbers = [5, 51, 2, 15, 6]\n",
    "print(numbers)\n",
    "\n",
    "# sort numbers with the sort() method\n",
    "numbers.sort()\n",
    "print(numbers)\n",
    "\n",
    "numbers.sort(reverse=True)\n",
    "print(numbers)\n"
   ]
  },
  {
   "cell_type": "code",
   "execution_count": null,
   "metadata": {},
   "outputs": [],
   "source": [
    "numbers = [5, 51, 2, 15, 6]\n",
    "print(numbers)\n",
    "# The sort function can be used an it will creat a new list\n",
    "print(sorted(numbers))\n",
    "print(sorted(numbers, reverse=True))\n",
    "print(numbers)"
   ]
  },
  {
   "cell_type": "code",
   "execution_count": null,
   "metadata": {},
   "outputs": [],
   "source": [
    "# Zip Function\n",
    "list_1 = [1, 2, 3, 4]\n",
    "list_2 = [10, 20, 30, 40, 50, 60]\n",
    "\n",
    "combined_list = zip(list_1, list_2)\n",
    "print(list(combined_list))\n",
    "\n",
    "list_3 = list(zip(\"abcd\", list_2, list_1))\n",
    "print(list_3)"
   ]
  },
  {
   "cell_type": "code",
   "execution_count": null,
   "metadata": {},
   "outputs": [],
   "source": [
    "# Swapping Variables\n",
    "\n",
    "# To swap two variables, we can use a third variable to backup the frist variable\n",
    "\n",
    "x = 10\n",
    "y = 20\n",
    "\n",
    "# z = x\n",
    "# x = y\n",
    "# y = z\n",
    "\n",
    "print(f\"x: {x}\\ny: {y}\")\n",
    "\n",
    "# In python we can swap the value of two variables using only one line of code\n",
    "x, y = y, x\n",
    "\n",
    "print(f\"x: {x}\\ny: {y}\")"
   ]
  },
  {
   "cell_type": "code",
   "execution_count": null,
   "metadata": {},
   "outputs": [],
   "source": [
    "# Sets\n",
    "\n",
    "numbers = [1, 1, 2, 5, 4, 5, 1, 2, 2, 1, 4, 5, 5]\n",
    "uniques = set(numbers)\n",
    "print(uniques)\n",
    "\n",
    "# We can use the same methods as lists\n",
    "uniques.add(6)\n",
    "print(uniques)\n",
    "\n",
    "uniques.remove(6)\n",
    "print(uniques)\n",
    "\n",
    "print(len(uniques))"
   ]
  },
  {
   "cell_type": "code",
   "execution_count": null,
   "metadata": {},
   "outputs": [],
   "source": [
    "a = set()\n",
    "print(a)\n",
    "a.add('b')\n",
    "print(a)"
   ]
  },
  {
   "cell_type": "code",
   "execution_count": null,
   "metadata": {},
   "outputs": [],
   "source": [
    "# Tuple\n",
    "\n",
    "thistuple = (\"apple\", \"banana\", \"cherry\")\n",
    "print(thistuple)"
   ]
  },
  {
   "cell_type": "code",
   "execution_count": null,
   "metadata": {},
   "outputs": [],
   "source": [
    "print(thistuple[0])"
   ]
  },
  {
   "cell_type": "code",
   "execution_count": null,
   "metadata": {},
   "outputs": [],
   "source": [
    "print(thistuple[0:2])"
   ]
  },
  {
   "cell_type": "code",
   "execution_count": null,
   "metadata": {},
   "outputs": [],
   "source": [
    "thistuple[0] = 'orange'"
   ]
  },
  {
   "cell_type": "code",
   "execution_count": null,
   "metadata": {},
   "outputs": [],
   "source": [
    "# List Comprehensions\n",
    "\n",
    "products = [\n",
    "    (\"Product1\", 15),\n",
    "    (\"Product2\", 50),\n",
    "    (\"Product3\", 5)\n",
    "]\n",
    "print(products)\n",
    "\n",
    "prices = [item[1] for item in products] \n",
    "print(prices)"
   ]
  },
  {
   "cell_type": "code",
   "execution_count": null,
   "metadata": {},
   "outputs": [],
   "source": [
    "filtered_price = [item for item in products if item[1] >= 10]\n",
    "print(filtered_price)"
   ]
  },
  {
   "cell_type": "code",
   "execution_count": null,
   "metadata": {},
   "outputs": [],
   "source": [
    "# Dictionaries\n",
    "\n",
    "point = {\"x\": 1, \"y\": 2}\n",
    "print(point)\n",
    "point = dict(x=1, y=2)\n",
    "print(point)"
   ]
  },
  {
   "cell_type": "code",
   "execution_count": null,
   "metadata": {},
   "outputs": [],
   "source": [
    "print(point[\"x\"]) "
   ]
  },
  {
   "cell_type": "code",
   "execution_count": null,
   "metadata": {},
   "outputs": [],
   "source": [
    "point[\"z\"] = 3\n",
    "print(point)"
   ]
  },
  {
   "cell_type": "code",
   "execution_count": null,
   "metadata": {},
   "outputs": [],
   "source": [
    "if \"a\" in point:\n",
    "    print(\"yes\")\n",
    "else:\n",
    "    print(\"no\")"
   ]
  },
  {
   "cell_type": "code",
   "execution_count": null,
   "metadata": {},
   "outputs": [],
   "source": [
    "print(point.get(\"a\"))"
   ]
  },
  {
   "cell_type": "code",
   "execution_count": null,
   "metadata": {},
   "outputs": [],
   "source": [
    "del point[\"x\"] # to delete the key x\n",
    "print(point)"
   ]
  },
  {
   "cell_type": "code",
   "execution_count": null,
   "metadata": {},
   "outputs": [],
   "source": [
    "for key in point: # Loop over dictoanaries, in here we will print the dictionary keys\n",
    "    print(key)"
   ]
  },
  {
   "cell_type": "code",
   "execution_count": null,
   "metadata": {},
   "outputs": [],
   "source": [
    "for key in point: # Loop over \n",
    "    print(key, point[key])"
   ]
  },
  {
   "cell_type": "code",
   "execution_count": null,
   "metadata": {},
   "outputs": [],
   "source": [
    "for index in point.items(): \n",
    "    print(index)"
   ]
  },
  {
   "cell_type": "code",
   "execution_count": null,
   "metadata": {},
   "outputs": [],
   "source": [
    "for key, value in point.items():\n",
    "    print(key, value)"
   ]
  },
  {
   "cell_type": "code",
   "execution_count": null,
   "metadata": {},
   "outputs": [],
   "source": [
    "print(point.items())\n",
    "print(list(point.items()))\n",
    "print(tuple(point.values()))"
   ]
  },
  {
   "cell_type": "code",
   "execution_count": null,
   "metadata": {},
   "outputs": [],
   "source": [
    "# Dictionary Comprehensions\n",
    "valores = {x: x * 2 for x in range(5)}\n",
    "print(valores)"
   ]
  },
  {
   "cell_type": "code",
   "execution_count": null,
   "metadata": {},
   "outputs": [],
   "source": [
    "from sys import getsizeof # import getsizeof function\n",
    "print(getsizeof(values)) # show the bites of memory"
   ]
  },
  {
   "cell_type": "code",
   "execution_count": null,
   "metadata": {},
   "outputs": [],
   "source": [
    "a = 3\n",
    "print(getsizeof(a))"
   ]
  },
  {
   "cell_type": "code",
   "execution_count": null,
   "metadata": {},
   "outputs": [],
   "source": [
    "# Unpacking Operator\n",
    "\n",
    "numbers = [1, 2, 3]\n",
    "print(numbers)\n",
    "print(*numbers) # with * operator we are unpacking the list and passing them as single elements to the print function"
   ]
  },
  {
   "cell_type": "code",
   "execution_count": null,
   "metadata": {},
   "outputs": [],
   "source": [
    "print((*numbers))"
   ]
  },
  {
   "cell_type": "code",
   "execution_count": null,
   "metadata": {},
   "outputs": [],
   "source": [
    "values = list((range(10)))\n",
    "print(values)\n",
    "values  = [*range(10)] # With this operator we can unpack any iterables\n",
    "print(values)"
   ]
  },
  {
   "cell_type": "code",
   "execution_count": null,
   "metadata": {},
   "outputs": [],
   "source": [
    "my_text = [*\"Hello Miguel\"]\n",
    "print(my_text)"
   ]
  },
  {
   "cell_type": "code",
   "execution_count": null,
   "metadata": {},
   "outputs": [],
   "source": [
    "# We can combine multiple list\n",
    "list_1 = [1, 2, 3, 4, 5]\n",
    "list_2 = [6, 7, 8, 9, 10]\n",
    "combined_lists = [*list_1, *list_2]\n",
    "print(combined_lists)\n"
   ]
  },
  {
   "cell_type": "code",
   "execution_count": null,
   "metadata": {},
   "outputs": [],
   "source": [
    "# We can also unpack dictonaries but we have to use **\n",
    "\n",
    "dict_1 = {\"a\": 1, \"b\": 2}\n",
    "dict_2 = {\"b\": 4, \"c\": 6}\n",
    "combined_dict = {**dict_1, **dict_2} \n",
    "print(combined_dict)"
   ]
  },
  {
   "cell_type": "code",
   "execution_count": null,
   "metadata": {},
   "outputs": [],
   "source": []
  }
 ],
 "metadata": {
  "kernelspec": {
   "display_name": "Python 3",
   "language": "python",
   "name": "python3"
  },
  "language_info": {
   "codemirror_mode": {
    "name": "ipython",
    "version": 3
   },
   "file_extension": ".py",
   "mimetype": "text/x-python",
   "name": "python",
   "nbconvert_exporter": "python",
   "pygments_lexer": "ipython3",
   "version": "3.8.5"
  }
 },
 "nbformat": 4,
 "nbformat_minor": 4
}
